{
 "cells": [
  {
   "cell_type": "markdown",
   "metadata": {},
   "source": [
    "# Medida de la incertidumbre. La probabilidad\n",
    "\n",
    "\n",
    "### Experimento aleatorio \n",
    "\n",
    "Se llama **espacio muestral** asociado a un experimento aleatorio al conjunto formado por todos los posibles resultados del experimento aleatorio. Suele representarse por $\\Omega$.\n",
    "\n",
    "Un conjunto de posibles resultados del experimento aleatorio se llama **suceso**.\n",
    "Los sucesos suelen representarse por letras mayúsculas: $A$, $B$, $C$,...\n",
    "\n",
    "**Ejemplo.** Consideremos el experimento aleatorio consistente en lanzar un dado equilibrado de seis caras al aire y observar el número de puntos que figuran en la cara superior. Su correspondiente espacio muestral será\n",
    "\n",
    "$$\\Omega=\\{1,2,3,4,5,6\\}$$\n",
    "\n",
    "Algunos sucesos que podríamos definir:\n",
    "\n",
    "$A$ = \"sacar puntuación par\" $=\\{2,4,6\\}$ y $B$ = \"sacar puntuación $2$\" $=\\{2\\}$. \n",
    "\n",
    "Dado un suceso, $A$, perteneciente al espacio de sucesos $\\mathcal{S}$ asociado al espacio muestral $\\Omega$, la probabilidad trata de asignar a $A$ una medida teórica de la ocurrencia de $A$.\n",
    "\n",
    "## Definición de probabilidad clásica o de Laplace (1812)\n",
    "\n",
    "Deben establecerse dos hipótesis necesarias:\n",
    "\n",
    "1. El espacio muestral ha de ser finito, y\n",
    "2. Todos los sucesos elementales han de ser igualmente posibles (equiprobables)\n",
    "\n",
    "entonces se define la probabilidad del suceso $A$ como\n",
    "\n",
    "$$P(A)=\\frac{\\mbox{número de casos favorables a A} }{\\mbox{número total de sucesos elementales posibles}}$$\n",
    "\n",
    "\n",
    "#### Ejemplo con definición de probabilidad de Laplace\n",
    "\n",
    "En el lanzamiento de un dado de seis caras **no cargado**, consideremos el espacio muestral $\\Omega=\\{1,2,3,4,5,6\\}$. Sea el suceso $A$= \"sacar puntuación menor que 3\" $=\\{1,2\\}$, entonces:\n",
    "\n",
    "$$P(A)=\\frac{2}{6} \\approx 0.3333$$\n",
    "\n",
    "\n",
    "## Definición de probabilidad frecuentista o de Von Mises (1919)\n",
    "\n",
    "Si repetimos un experimento N veces, llamamos  __frecuencia relativa del suceso $A$__, que denotamos por $f_A$, al cociente entre el número de veces que éste se presenta y el total de pruebas.\n",
    "\n",
    "La frecuencia relativa de un suceso tiende a estabilizarse cuando el número de pruebas aumenta. La definición frecuentista de probabilidad se basa en este hecho, y asigna como probabilidad al suceso $A$ el número:\n",
    "\n",
    "$$P(A)=\\lim_{N\\rightarrow\\infty} f_A=\\lim_{N\\rightarrow\\infty}\\frac{n_A}{N}=$$\n",
    "\n",
    "$$=\\lim_{N\\rightarrow\\infty}\\frac{\\mbox{frecuencia absoluta de A}}{\\mbox{número total de pruebas}}$$"
   ]
  },
  {
   "cell_type": "markdown",
   "metadata": {},
   "source": [
    "#### Ejemplo con definición de probabilidad frecuentista\n",
    "\n",
    "En el lanzamiento de un dado de seis caras <strike> no cargado </strike>, realizamos 1000 lanzamientos generando la siguiente tabla de frecuencias:"
   ]
  },
  {
   "cell_type": "code",
   "execution_count": 1,
   "metadata": {},
   "outputs": [
    {
     "data": {
      "text/plain": [
       "[1, 2, 3, 4, 5, 6]"
      ]
     },
     "execution_count": 1,
     "metadata": {},
     "output_type": "execute_result"
    }
   ],
   "source": [
    "import numpy as np\n",
    "dado = list(range(1, 7))\n",
    "dado"
   ]
  },
  {
   "cell_type": "code",
   "execution_count": 2,
   "metadata": {},
   "outputs": [],
   "source": [
    "import pandas as pd\n",
    "lanzamientos = pd.Series(np.random.choice(dado, size=1000, replace=True))"
   ]
  },
  {
   "cell_type": "code",
   "execution_count": 3,
   "metadata": {},
   "outputs": [
    {
     "data": {
      "text/plain": [
       "array([5, 1, 2, 6, 6, 3, 5, 3, 3, 1, 5, 2, 6, 2, 1, 6, 1, 3, 1, 2, 6, 3,\n",
       "       4, 6, 3, 4, 3, 5, 5, 1])"
      ]
     },
     "execution_count": 3,
     "metadata": {},
     "output_type": "execute_result"
    }
   ],
   "source": [
    "lanzamientos.head(30).values"
   ]
  },
  {
   "cell_type": "code",
   "execution_count": 4,
   "metadata": {},
   "outputs": [
    {
     "name": "stdout",
     "output_type": "stream",
     "text": [
      "1    0.177\n",
      "2    0.182\n",
      "3    0.160\n",
      "4    0.176\n",
      "5    0.144\n",
      "6    0.161\n",
      "dtype: float64\n"
     ]
    }
   ],
   "source": [
    "print(lanzamientos.value_counts().sort_index()/1000.)"
   ]
  },
  {
   "cell_type": "code",
   "execution_count": 5,
   "metadata": {},
   "outputs": [],
   "source": [
    "lanzamientos = pd.Series(np.random.choice(dado, size=1000, \n",
    "replace=True, p=[0.1, 0.1, 0.2, 0.3, 0.2, 0.1]))"
   ]
  },
  {
   "cell_type": "code",
   "execution_count": 6,
   "metadata": {},
   "outputs": [
    {
     "name": "stdout",
     "output_type": "stream",
     "text": [
      "1    0.104\n",
      "2    0.094\n",
      "3    0.172\n",
      "4    0.294\n",
      "5    0.234\n",
      "6    0.102\n",
      "dtype: float64\n"
     ]
    }
   ],
   "source": [
    "print(lanzamientos.value_counts().sort_index()/1000.)"
   ]
  },
  {
   "cell_type": "markdown",
   "metadata": {},
   "source": [
    "## Definición axiomática o de Kolmogorov (1933)\n",
    "\n",
    "Dado el espacio de sucesos $\\mathcal{S}$ asociado a un espacio muestral $\\Omega$, se define una medida de probabilidad, $P$, como una función:\n",
    "\n",
    "$$P:\\mathcal{S} \\rightarrow [0,1]$$ que verifique los siguientes axiomas:\n",
    "\n",
    "- **Axioma 1.** $P(A)\\geq 0, \\quad \\forall A \\in \\mathcal{S}$\n",
    "\n",
    "- **Axioma 2.** $P(\\Omega)=1$\n",
    "\n",
    "- **Axioma 3.** $P\\left(\\displaystyle \\bigcup_{i} A_{i}\\right)=\\displaystyle\\sum_{i} P(A_{i}), \\forall A_i \\in \\mathcal{S}, \\, A_i \\cap A_j = \\emptyset, \\, i \\neq j$\n",
    "\n",
    "\n",
    "De los axiomas anteriores se deducen las siguientes propiedades:\n",
    "\n",
    "1. $P(\\emptyset) = 0$\n",
    "\n",
    "2. $P\\left(\\displaystyle \\bigcup_{i=1}^k A_{i}\\right)=\\displaystyle\\sum_{i=1}^k P(A_{i}), \\forall A_i \\in \\mathcal{S}, \\, A_i \\cap A_j = \\emptyset, \\, i \\neq j$\n",
    "\n",
    "3. $P(\\overline{A})=1-P(A)$\n",
    "\n",
    "4. $P(A\\cup B)=P(A)+P(B)-P(A\\cap B)$\n",
    "\n",
    "\n",
    "Se denomina **espacio probabilístico** a la terna $(\\Omega,\\mathcal{S},P)$, donde $\\mathcal{S}$ es el espacio de sucesos asociado al espacio muestral $\\Omega$, y $P$ es una medida de probabilidad."
   ]
  },
  {
   "cell_type": "markdown",
   "metadata": {},
   "source": [
    "#### Ejemplo utilizando la axiomática de Kolmogorov\n",
    "\n",
    "En el lanzamiento de un dado de seis caras **no cargado**, consideremos el espacio muestral $\\Omega=\\{1,2,3,4,5,6\\}$. ¿Cuál es la probabilidad de sacar una puntuación mayor o igual que 3?\n",
    "\n",
    "Del ejemplo utilizando la definición de la regla de Laplace calculamos $P(A)=2/6,$ donde $A=$ \"sacar una puntación menor que tres\", por tanto\n",
    "\n",
    "$$P(\\overline{A})= 1 - P(A) = 1 - \\frac{2}{6} = \\frac{4}{6}$$"
   ]
  },
  {
   "cell_type": "markdown",
   "metadata": {},
   "source": [
    "# Probabilidad condicionada\n",
    "\n",
    "\n",
    "La incorporación de una información adicional, como por ejemplo, el conocimiento de la ocurrencia de otro suceso, puede hacer que determinados resultados no puedan ocurrir, con lo que el espacio muestral cambia y cambian las probabilidades.\n",
    "\n",
    "Por ejemplo, utilizando la definición de probabilidad frecuentista, y eligiendo una botella al azar de entre las 79 catalogadas:\n",
    "\n",
    "\n",
    "| Tipo/Región     | Canarias | Península |\n",
    "|------|----------|-----------|\n",
    "|Blanco|17        |10         |\n",
    "|Rosado|9         |9          |\n",
    "|Tinto |24        |10         |\n",
    "\n",
    "\n",
    "1. ¿Cuál es la probabilidad de que la botella elegida sea de vino rosado?\n",
    "2. ¿Cuál es la probabilidad de que la botella elegida sea de Canarias?\n",
    "3. **Sabiendo que la botella elegida es de Canarias** ¿Cuál es la probabilidad de que sea de vino rosado?\n",
    "4. ¿Cuál es la probabilidad de que el vino sea de la penísula, **sabiendo que** es un vino blanco?\n",
    "\n",
    "Observemos además que si definimos los sucesos $A=$ \"el vino elegido es rosado\" y $B=$ \"el vino elegido es de Canarias\", entonces\n",
    "\n",
    "$$P(A|B) = \\cfrac{9}{50} = \\cfrac{9/79}{50/79} = \\cfrac{P(A \\cap B)}{P(B)}$$\n",
    "\n",
    "__Definición__. Sea $(\\Omega,\\mathcal{S},P)$ un espacio probabilístico y $B$ un suceso de $\\mathcal{S}$ con probabilidad no nula, $P(B)>0$. Sea $A$ un suceso cualquiera de $\\mathcal{S}$, llamaremos **probabilidad del suceso $A$ condicionada porque haya acontecido otro suceso $B$** o, sencillamente, **probabilidad de $A$ condicionada por $B$ **, al cociente\n",
    "\n",
    "$$P(A|B)=\\dfrac{P(A\\cap B)}{P(B)}$$\n",
    "\n",
    "\n",
    "También se cumple que \n",
    "\n",
    "$$P(B|A)=\\dfrac{P(A\\cap B)}{P(A)}, \\mbox{ con } P(A) >0$$\n",
    "\n",
    "También se cumple que \n",
    "\n",
    "$$P(A \\cap B) = P(B) \\cdot P(A|B)$$\n"
   ]
  },
  {
   "cell_type": "markdown",
   "metadata": {},
   "source": [
    "## Extensión de la probabilidad de la intersección\n",
    "\n",
    "Sean  $A_1,A_2,\\ldots,A_n \\in \\mathcal{S}$ tales que $P(A_1\\cap A_2 \\cap \\ldots \\cap A_{n-1})\\neq 0$ entonces\n",
    "\n",
    "$$P(A_1\\cap A_2 \\cap \\ldots \\cap A_{n})=$$\n",
    "\n",
    "$$=P(A_1) \\cdot P(A_2|A_1) \\cdot P(A_3|A_1\\cap A_2)  \\cdots P(A_n|A_1\\cap A_2 \\cap \\cdots \\cap A_{n-1})$$\n",
    "\n",
    "**Ejemplo** \n",
    "\n",
    "En una urna hay 10 bolas blancas y 8 negras. Si extraemos tres bolas *sin reemplazamiento*, ¿Cuál es la probabilidad de que las tres sean blancas?\n",
    "\n",
    "\n",
    "\n",
    "# Independencia de sucesos\n",
    "\n",
    "Sea el espacio probabilístico $(\\Omega,\\mathcal{S},P)$ y sean $A$ y $B$ sucesos de $\\mathcal{S}$ verificándose que $P(B)>0$. Diremos que **los sucesos $A$ y $B$ son independientes** si se verifica que\n",
    "\n",
    "$$P(A|B)=P(A)$$\n",
    "\n",
    "O lo que es lo mismo \n",
    "\n",
    "$$P(A \\cap B) = P(A) \\cdot P(B)$$\n",
    "\n",
    "\n",
    "**Ejemplo** \n",
    "\n",
    "En una casa de apuestas, si apostamos a que Rafa Nadal gana Wimbledon a cuota 2 y además que el FC Barcelona gana la Liga a cuota 3, la cuota combinada de ambos sucesos sería 6, ya que los sucesos son estadísticamente independientes: la probabilidad de que gane FC Barcelona la Liga, sabiendo o no que Rafa Nadal gana Wimblendon es la misma. \n",
    "\n",
    "# Teorema de la probabilidad total\n",
    "\n",
    "Dado un espacio probabilístico $(\\Omega,\\mathcal{S},P)$, si consideramos $A_1,A_2,\\ldots,A_n \\in \\mathcal{S}$ una colección de sucesos mutuamente excluyentes, todos con probabilidades no nulas, y tales que $\\Omega=\\displaystyle\\bigcup_{i=1}^n A_i$, se verifica para todo $B \\in \\mathcal{S}$: \n",
    "\n",
    "$$P(B)=\\displaystyle\\sum_{i=1}^n P(B|A_i) \\cdot P(A_i)$$\n",
    "\n",
    "\n",
    "\n",
    "# Teorema de Bayes\n",
    "\n",
    "Sea $(\\Omega,\\mathcal{S},P)$ un espacio probabilístico\n",
    "y $A_1,A_2,\\ldots,A_n \\in \\mathcal{S}$ una colección de sucesos mutuamente excluyentes, todos con probabilidades no nulas, y tales que $\\Omega=\\displaystyle\\bigcup_{i=1}^n A_i$, se verifica para todo $B\\in \\mathcal{S}$:\n",
    "\n",
    "$$P(A_j|B)=\\dfrac{P(A_j \\cap B)}{P(B)}=\\dfrac{P(B|A_j) \\cdot P(A_j)}{\\displaystyle\\sum_{i=1}^n P(B|A_i) \\cdot P(A_i)}, \\quad j=1,2,\\ldots,n$$\n",
    "\n",
    "A las probabilidades $P(A_j)$ se les llama *probabilidades a priori*, y son las probabilidades iniciales que tenemos de los sucesos $A_j$. Ante una determinada evidencia experimental, $B$, corregimos el grado de creencia de las $A_j$ obteniendo unas nuevas probabilidades, $P(A_j|B)$, llamadas *probabilidades a posteriori*, a través de las *verosimilitudes*, $P(B|A_j)$.\n",
    "\n",
    "\n",
    "#### Ejemplo\n",
    "\n",
    "Un enólogo recibe tapones de corcho de tres fabricantes $F_1$, $F_2$ y $F_3$, de modo que el 30% de las piezas proceden de $F_1$ , el 50% de $F_2$ y el resto de $F_3$. Se devuelven por incorrecciones el 2% de las piezas procedentes de $F_1$, el 6% de las procedentes de $F_2$ y el 8% de las procedentes de $F_3$. De los próximos 2000 tapones que recibirá el enólogo\n",
    "\n",
    "1. ¿Cuántas piezas se espera que sean devueltas?\n",
    "\n",
    "1. Sabiendo que una pieza está defectuosa, ¿cuál es la probabilidad de que proceda de $F_3$ ?"
   ]
  },
  {
   "cell_type": "code",
   "execution_count": 7,
   "metadata": {},
   "outputs": [
    {
     "name": "stdout",
     "output_type": "stream",
     "text": [
      "0.052\n",
      "104.0\n",
      "0.3076923076923077\n"
     ]
    }
   ],
   "source": [
    "F1 = 0.3\n",
    "F2 = 0.5\n",
    "F3 = 0.2\n",
    "\n",
    "#TF1 = F1*pedido\n",
    "dev_TF1 = F1*0.02\n",
    "#TF2 = F2*pedido\n",
    "dev_TF2= F2*0.06\n",
    "#TF3 = F3*pedido\n",
    "dev_TF3 = F3*0.08 \n",
    "\n",
    "dev_total = dev_TF1+dev_TF2+dev_TF3\n",
    "print(dev_total)\n",
    "\n",
    "pedido = 2000\n",
    "print(dev_total*pedido)\n",
    "\n",
    "print(dev_TF3/(dev_total))\n"
   ]
  },
  {
   "cell_type": "markdown",
   "metadata": {},
   "source": [
    "### Ejercicios propuestos\n",
    "\n",
    "1 Se sacan dos bolas de una urna que se compone de una bola blanca, otra roja, otra verde y otra negra. Describe el espacio muestral cuando:\n",
    "\n",
    "* La primera bola se devuelve a la urna antes de sacar la segunda.\n",
    "* La primera bola no se devuelve.\n",
    "\n",
    "2 Calcula las probabilidades indicadas según el siguiente experimento:\n",
    "\"Una urna tiene ocho bolas rojas, cinco amarillas y siete verdes. Si se extrae una bola al azar calcular la probabilidad de que:\n",
    "* Sea roja.\n",
    "* Sea verde.\n",
    "* Sea amarilla.\n",
    "* No sea roja.\n",
    "* No sea amarilla.\n",
    "\n",
    "3 Una urna contiene tres bolas rojas y siete blancas. Se extraen dos bolas al azar. Escribir el espacio muestral y hallar la probabilidad de los sucesos:\n",
    "* Con reemplazamiento (sacar la primera bola y volver a meterla antes de sacar la segunda).\n",
    "* Sin reemplazamiento (sacar la primera bola y no regresarla, sacar la segunda de las restantes).\n",
    "\n",
    "4 Hallar la probabilidad de que al levantar unas fichas de dominó se obtenga un número de puntos mayor que 9 o que sea múltiplo de 4.\n",
    "\n",
    "5 La probabilidad de que un hombre viva 20 años es $\\frac{1}{4}$ y la de que su mujer viva 20 años es $\\frac{1}{3}$. Se pide calcular la probabilidad:\n",
    "\n",
    "* De que ambos vivan 20 años.\n",
    "* De que el hombre viva 20 años y su mujer no.\n",
    "* De que ambos mueran antes de los 20 años.\n",
    "\n",
    " "
   ]
  }
 ],
 "metadata": {
  "kernelspec": {
   "display_name": "Python 3 (ipykernel)",
   "language": "python",
   "name": "python3"
  },
  "language_info": {
   "codemirror_mode": {
    "name": "ipython",
    "version": 3
   },
   "file_extension": ".py",
   "mimetype": "text/x-python",
   "name": "python",
   "nbconvert_exporter": "python",
   "pygments_lexer": "ipython3",
   "version": "3.10.12"
  }
 },
 "nbformat": 4,
 "nbformat_minor": 2
}
