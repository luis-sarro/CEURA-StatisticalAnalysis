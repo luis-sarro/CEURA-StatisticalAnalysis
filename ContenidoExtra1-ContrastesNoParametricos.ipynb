{
 "cells": [
  {
   "cell_type": "markdown",
   "metadata": {},
   "source": [
    "# Contrastes de hipótesis no paramétricos\n",
    "\n",
    "La mayoría de los procedimientos de inferencia estadística presentados\n",
    "hasta ahora han podido utilizarse porque **hemos supuesto ciertas\n",
    "condiciones de partida** en la población o las poblaciones de estudio.\n",
    "Se han inferido, mediante contrastes de hipótesis, propiedades sobre\n",
    "parámetros de cierto modelo de distribución.\n",
    "\n",
    "Sin embargo, las hipótesis necesarias para la validez de los\n",
    "procedimientos descritos en la **inferencia paramétrica** (normalidad,\n",
    "independencia, tamaños de muestra, ...) no siempre se satisfacen, y por\n",
    "ello son necesarios procedimientos que sean más flexibles en las\n",
    "hipótesis de partida.\n",
    "\n",
    "Los llamados **métodos no paramétricos** llenan esta laguna, siendo su\n",
    "validez mucho más general. Sus principales ventajas son:\n",
    "\n",
    "-   Dado que tienen menos hipótesis iniciales que cumplir para su\n",
    "    aplicación, es improbable usarlos de forma inadecuada, esto es, son\n",
    "    inocuos.\n",
    "\n",
    "-   Los cálculos suelen ser más simples y rápidos.\n",
    "\n",
    "-   No requieren como en los paramétricos escalas numéricas (razón o\n",
    "    intervalo). A la mayoría le basta con la escala ordinal (o de\n",
    "    rangos).\n",
    "\n",
    "El principal inconveniente de las técnicas de inferencia no paramétrica\n",
    "es que desperdician mucha información, y por ello **deben usarse si no\n",
    "existe una alternativa paramétrica**.\n"
   ]
  },
  {
   "cell_type": "markdown",
   "metadata": {},
   "source": [
    "### Contraste de normalidad de Shapiro-Wilks\n",
    "\n",
    "El contraste a estudiar es, dada una muestra aleatoria\n",
    "$x_1, x_2, \\dots x_n$ de una población que tiene asociada una función de\n",
    "distribución continua $F(x)$, entonces \n",
    "\n",
    "$$\\begin{cases}\n",
    "        H_0 :&\\text{La distribución de F(x) es normal} \\\\\n",
    "        H_1 :& \\text{La distribución de F(x) NO es normal},\n",
    "    \\end{cases}$$ siendo el estadístico de contraste\n",
    "\n",
    "$$W = \\frac{ \\left( \\sum_{i=1}^n a_i x_{(i)}  \\right)^2  }{\\sum_{i = 1}^n \n",
    "  (x_i- \\overline{x})^2},$$\n",
    "\n",
    "donde $x_{(i)}$ es el i-ésimo estadístico ordenado, $\\overline{x}$ es la\n",
    "media muestral, y las constantes $a_i$ se definen como\n",
    "$$(a_1, \\dots a_n) = \\frac{m^T V^{-1}}{(m^TV^{-1}V^{-1}m)^{1/2}},$$\n",
    "donde $m = (m_1, \\dots, m_n)^T$ son los valores esperados de los\n",
    "estadísticos ordenados de variables independientes e idénticamente\n",
    "distribuidas muestreadas a partir de una distribución normal, y $V$ es\n",
    "la matriz de covarianza de esos estadísticos ordenados. El estadístico\n",
    "mide cómo de bien los datos se ajustan a una línea recta cuando son\n",
    "pintados en un gráfico de probabilidad normal. En *Statgraphics* el test\n",
    "de Shapiro-Wilks está disponible para $2 \\leq n \\leq 2000 $. El test es\n",
    "adecuado cuando $n \\leq 50$, pero muy exigente para un tamaño muestral\n",
    "superior (en ese caso deberíamos probar con el test de\n",
    "Kolmogorov-Smirnov).\n",
    "\n",
    "__[Ejercicio]__ Mediante el contraste de Shapiro-Wilks, fijado $\\alpha=5\\%$ decidir si\n",
    "la muestra del número de tercios de cerveza al año por individuo en europa \n",
    "proviene de una población con distribución normal.\n"
   ]
  },
  {
   "cell_type": "code",
   "execution_count": 1,
   "metadata": {},
   "outputs": [
    {
     "name": "stdout",
     "output_type": "stream",
     "text": [
      "Populating the interactive namespace from numpy and matplotlib\n"
     ]
    }
   ],
   "source": [
    "%pylab inline\n",
    "%config InlineBackend.figure_format = 'retina'\n",
    "pylab.rcParams['figure.figsize'] = (10, 6)\n",
    "plt.style.use('ggplot')\n",
    "\n",
    "import pandas as pd\n",
    "import numpy as np\n",
    "import scipy.stats as st\n",
    "\n",
    "drinks = pd.read_csv('https://raw.githubusercontent.com/AngelBerihuete/introstats/master/datasets/drinks.csv')\n",
    "muestra1 = drinks[drinks.continent=='EU']\n",
    "muestra2 = drinks[drinks.continent=='AS']"
   ]
  },
  {
   "cell_type": "code",
   "execution_count": 2,
   "metadata": {},
   "outputs": [
    {
     "data": {
      "text/plain": [
       "(0.9592716693878174, 0.11457914113998413)"
      ]
     },
     "execution_count": 2,
     "metadata": {},
     "output_type": "execute_result"
    }
   ],
   "source": [
    "st.shapiro(muestra1.beer_servings)"
   ]
  },
  {
   "cell_type": "code",
   "execution_count": 4,
   "metadata": {},
   "outputs": [
    {
     "data": {
      "text/plain": [
       "0.49073738799702421"
      ]
     },
     "execution_count": 4,
     "metadata": {},
     "output_type": "execute_result"
    }
   ],
   "source": [
    "from statsmodels.stats.stattools import durbin_watson\n",
    "\n",
    "durbin_watson(muestra1.beer_servings) # La hipótesis nula de este test es que las muestras son independientes\n",
    "# aprox. 2 entonces no hay autocorrelación\n",
    "# aprox. 0 auto-correlacion positiva\n",
    "# aprox. 4 auto-correlación negativa"
   ]
  },
  {
   "cell_type": "code",
   "execution_count": 5,
   "metadata": {},
   "outputs": [
    {
     "data": {
      "text/plain": [
       "(0.7451373934745789, 2.2657687281935068e-07)"
      ]
     },
     "execution_count": 5,
     "metadata": {},
     "output_type": "execute_result"
    }
   ],
   "source": [
    "st.shapiro(muestra2.beer_servings)"
   ]
  },
  {
   "cell_type": "code",
   "execution_count": 6,
   "metadata": {},
   "outputs": [
    {
     "data": {
      "text/plain": [
       "1.2885349241619166"
      ]
     },
     "execution_count": 6,
     "metadata": {},
     "output_type": "execute_result"
    }
   ],
   "source": [
    "durbin_watson(muestra2.beer_servings)"
   ]
  },
  {
   "cell_type": "markdown",
   "metadata": {},
   "source": [
    "#### Otros contrastes\n",
    "\n",
    "Las siguientes funciones también contrastan si la muestra proviene de una distribución normal. Está basada en los test de D'Agostino y Pearson que combinan la asimetría y la curtosis."
   ]
  },
  {
   "cell_type": "code",
   "execution_count": 7,
   "metadata": {},
   "outputs": [
    {
     "data": {
      "text/plain": [
       "NormaltestResult(statistic=2.9339459200036773, pvalue=0.23062253329097429)"
      ]
     },
     "execution_count": 7,
     "metadata": {},
     "output_type": "execute_result"
    }
   ],
   "source": [
    "st.normaltest(muestra1.beer_servings)"
   ]
  },
  {
   "cell_type": "code",
   "execution_count": 8,
   "metadata": {},
   "outputs": [
    {
     "data": {
      "text/plain": [
       "NormaltestResult(statistic=35.727533624493176, pvalue=1.7452781333729791e-08)"
      ]
     },
     "execution_count": 8,
     "metadata": {},
     "output_type": "execute_result"
    }
   ],
   "source": [
    "st.normaltest(muestra2.beer_servings)"
   ]
  },
  {
   "cell_type": "markdown",
   "metadata": {},
   "source": [
    "### Contraste para la mediana\n",
    "\n",
    "__[Ejemplo]__ Se sabe que, generalemente, el 50% de los individuos de un país toma aproximadamente \n",
    "200 tercios de cerveza al año. Sin embargo, debido a restricciones en el consumo de alcohol en los paises asiáticos se cree que este valor es dirente. Mediante el contraste de los signos, fijado $\\alpha=5\\%$, decidir si la mediana en el número de tercios de cerveza al año por individuo es diferente a 200.\n",
    "\n",
    "Si $x_1, x_2, \\dots , x_n$ es una muestra aleatoria de una población\n",
    "**con distribución continua** y queremos contrastar un valor para la\n",
    "mediana de la distribución:\n",
    "\n",
    "$$\\begin{cases}\n",
    "        H_0 :& M_e = M_{e_0} \\\\\n",
    "        H_1 :& M_e \\neq M_{e_0},\n",
    "\\end{cases}\n",
    "$$\n",
    "\n",
    "Se proponen dos procedimientos para la solución de este contraste:\n",
    "\n",
    "#### Rangos signados de Wilcoxon\n",
    "\n",
    "* El contraste de los rangos con signos de Wilcoxon nos permite\n",
    "    contrastar un valor para la mediana de la distribución, en realidad\n",
    "    nos contrasta si hay simetría en la distribución respecto de la\n",
    "    mediana.\n",
    "\n",
    "El procedimiento para el cálculo del estadístico en el contraste de los\n",
    "rangos signados de Wilcoxon es el siguiente:\n",
    "\n",
    "1.  Restar de cada dato la mediana de\n",
    "    $y_1 = x_1-M_{e_0}, \\dots, y_n = x_n-M_{e_0}$\n",
    "\n",
    "2.  Calculamos los valores absolutos de las diferencias\n",
    "    $|x_i - M_{e_0}|$. Ordenamos de menor a mayor estos valores\n",
    "    absolutos, registrando el signo que tengan.\n",
    "\n",
    "3.  Se asignan rangos (órdenes) de 1 en adelante, de forma que si todos\n",
    "    los valores son distintos, los rangos serán de 1 a $n$.\n",
    "\n",
    "4.  En caso de empates, se asigna el mismo rango a los valores\n",
    "    empatados, obtenido con la media de los rangos que se asignarían a\n",
    "    los valores si no fueran iguales.\n",
    "\n",
    "El estadístico de contraste se obtiene sumando los rangos de aquellas\n",
    "diferencias que tenían signo positivo $W_{+}$ (o también de las que\n",
    "tenían signo negativo $W_{-}$)."
   ]
  },
  {
   "cell_type": "code",
   "execution_count": 15,
   "metadata": {},
   "outputs": [
    {
     "data": {
      "text/plain": [
       "WilcoxonResult(statistic=1.0, pvalue=7.9276854784012444e-09)"
      ]
     },
     "execution_count": 15,
     "metadata": {},
     "output_type": "execute_result"
    }
   ],
   "source": [
    "# T-tests assume Gaussian errors. We can use a Wilcoxon signed-rank test, that relaxes this assumption:\n",
    "st.wilcoxon(muestra2.beer_servings - 200.0)"
   ]
  },
  {
   "cell_type": "markdown",
   "metadata": {},
   "source": [
    "#### Contraste de los signos\n",
    "\n",
    "Permite contrastar un valor para la mediana de la distribución, donde el estadístico de contraste es el número de valores positivos encontradas en la muestra transformada $y_1 = x_1 -M_{e_0}, \\dots, y_n = x_n - M_{e_0}$. \n",
    "\n",
    "$$M = \\frac{N(+) - N(-)}{2}$$\n",
    "\n",
    "donde $N(+)$ es el número de valores por encima de $M_{e_0}$ y $N(-)$ es el número de valores por debajo. Los valores iguales a $M_{e_0}$ se descartan. El p-valor se calcula utilizando la distribución Binomial. El estadístico de contraste se distribuye según una binomial $\\mathcal{B}(min\\{N(+), N(-)\\}, (N(+) + N(-)), .5)$"
   ]
  },
  {
   "cell_type": "code",
   "execution_count": 18,
   "metadata": {},
   "outputs": [
    {
     "data": {
      "text/plain": [
       "(-21.0, 5.1159076974727189e-12)"
      ]
     },
     "execution_count": 18,
     "metadata": {},
     "output_type": "execute_result"
    }
   ],
   "source": [
    "from statsmodels.sandbox.descstats import sign_test\n",
    "sign_test(muestra2.beer_servings,200.0)\n"
   ]
  },
  {
   "cell_type": "markdown",
   "metadata": {},
   "source": [
    "## Contrastes no paramétricos para dos poblaciones\n",
    "\n",
    "### Dos muestras dependientes (emparejadas)\n",
    "\n",
    "Vamos a trabajar en este apartado con dos muestras de dos poblaciones,\n",
    "es decir, $n$ pares de mediciones\n",
    "$(x_1, y_1), (x_2, y_2), \\dots (x_n, y_n)$ y se quiere ver si la mediana\n",
    "de la población de las diferencias $y_i-x_i$ es cero o no. Es decir,\n",
    "\n",
    "$$\n",
    "\\begin{cases}\n",
    "    H_0 :& M_{e_X} = M_{e_Y} \\\\\n",
    "    H_1 :& M_{e_X} \\neq M_{e_Y}\n",
    "\\end{cases}\n",
    "\\quad \\equiv \\quad\n",
    "\\begin{cases}\n",
    "    H_0 :& M_{e_X} - M_{e_Y} = 0\\\\\n",
    "    H_1 :& M_{e_X} - M_{e_Y} \\neq 0\n",
    "\\end{cases}\n",
    "$$ \n",
    "  \n",
    "Para estos casos, pueden aplicarse $y_i - x_i$\n",
    "cualquiera de los contrastes de los signos vistos anteriormente.\n",
    "\n",
    "__[Ejemplo]__ En un estudio sobre número de reclamaciones a un servicio de atención \n",
    "al cliente, se quiere comprobar si después de si añadir una serie de protocolos \n",
    "en el proceso de ayuda a los usuarios, el número mediano de reclamaciones baja \n",
    "en dicho servicio. Para ello se registra el número de reclamaciones a 10 empleados\n",
    "elegidos al azar. \n",
    "\n",
    "\n",
    "|Empleado|   1|   2|    3|   4|    5|   6|   7|    8|   9|  10|\n",
    "|--------|----|----|-----|----|-----|----|----|-----|----|----|\n",
    "|Antes (X)|56| 56|  147|  58|  121|  57|  49|  118|  63|  75|\n",
    "|Después (Y) |47| 63|  125|  26|   99|  36|  34|   90|  50|  59|\n",
    "\n",
    "Fijado $\\alpha = 5\\%$, contrastar la hipótesis de que la mediana antes\n",
    "sea mayor que la mediana después de la inclusión de los protocolos."
   ]
  },
  {
   "cell_type": "code",
   "execution_count": 12,
   "metadata": {},
   "outputs": [
    {
     "data": {
      "text/plain": [
       "WilcoxonResult(statistic=1.0, pvalue=0.0068740358173567072)"
      ]
     },
     "execution_count": 12,
     "metadata": {},
     "output_type": "execute_result"
    }
   ],
   "source": [
    "data1 = np.array([56, 56,  147,  58,  121,  57,  49,  118,  63, 75])\n",
    "data2 = np.array([47, 63,  125,  26,   99,  36,  34, 90, 50, 59])\n",
    "\n",
    "st.wilcoxon(data1, data2)  "
   ]
  },
  {
   "cell_type": "markdown",
   "metadata": {},
   "source": [
    "> **Nota**. Cuando $n \\geq 50$, la distribución muestral $W_{+}$ o\n",
    "$|W_{-}|$ se aproxima a la distribución normal con media\n",
    "$\\mu_W = \\frac{n(n+4)}{4}$ y varianza\n",
    "$\\sigma_W^2 = \\frac{n(n+1)(2n+1)}{24}$. Podemos utilizar la tipificación\n",
    "$z=\\frac{W_{+}-\\mu_W}{\\sigma_W}$ para utilizar la tabla normal\n",
    "tipificada."
   ]
  },
  {
   "cell_type": "markdown",
   "metadata": {},
   "source": [
    "### Dos muestras independientes: test de Mann-Whitney\n",
    "\n",
    "La prueba de Mann-Whitney se usa para comprobar la homogeneidad de dos\n",
    "muestras que provienen de poblaciones independientes y observaciones de\n",
    "variables ordinales o continuas. Así pues, sean $x_1, x_2, \\dots, x_m$ e\n",
    "$y_1, y_2, \\dots, y_n$ muestras de tamaño $m$ y $n$ de dos poblaciones\n",
    "continuas, queremos contrastar\n",
    "\n",
    "$$\\begin{cases}\n",
    "    H_0 :& \\text{Las distribuciones X e Y son iguales} \\\\\n",
    "    H_1 :& \\text{Las distribuciones X e Y NO son iguales}\n",
    "  \\end{cases}\n",
    "$$\n",
    "\n",
    "Para calcular el estadístico de contraste se asigna a\n",
    "cada uno de los valores de las dos muestras su rango (de forma conjunta)\n",
    "para construir\n",
    "\n",
    "$$\\begin{aligned}\n",
    "  U_1 &=& n_1 n_2 + \\frac{n_1(n_1+1)}{2} - R_1 \\\\\n",
    "  U_2 &=& n_1 n_2 + \\frac{n_2(n_2+1)}{2} - R_2,\\end{aligned}\n",
    "$$ \n",
    "  \n",
    "donde\n",
    "$n_1$ y $n_2$ son los tamaños respectivos de cada muestra; $R_1$ y $R_2$\n",
    "es la suma de los rangos de las observaciones de las muestras 1 y 2\n",
    "respectivamente. El estadístico de contraste se define como el mínimo de\n",
    "$U_1$ y $U_2$.\n",
    "\n",
    "> **Nota**. Los cálculos tienen que tener en cuenta la presencia de\n",
    "observaciones idénticas a la hora de ordenarlas, asignando la media del\n",
    "rango que les correspondería.\n",
    "\n",
    "\n",
    "__[Ejemplo]__ Fijado $\\alpha = 10\\%$, ¿podríamos considerar que los individuos europeos tienen un comportamiento similar a los individuos asiaticos en la ingesta en el número de tercios de cerveza al año?"
   ]
  },
  {
   "cell_type": "code",
   "execution_count": 19,
   "metadata": {},
   "outputs": [
    {
     "data": {
      "text/plain": [
       "MannwhitneyuResult(statistic=197.0, pvalue=3.7948455133549184e-11)"
      ]
     },
     "execution_count": 19,
     "metadata": {},
     "output_type": "execute_result"
    }
   ],
   "source": [
    "st.mannwhitneyu(muestra1.beer_servings, muestra2.beer_servings)"
   ]
  },
  {
   "cell_type": "markdown",
   "metadata": {},
   "source": [
    "## Test exacto de Fisher para proporciones en poblaciones independientes\n",
    "\n",
    "Se recomienda utilizar el **test exacto de Fisher** cuando queremos\n",
    "comparar dos grupos respecto a una variable dicotómica, o queremos\n",
    "valorar la relación que existe entre dos variables cualitativas\n",
    "dicotómicas, y **el tamaño muestral es pequeño**.\n",
    "\n",
    "Cuando el tamaño muestral es grande (30 individuos por grupo) y queremos\n",
    "comparar dos grupos respecto a una variable dicotómica, podemos optar\n",
    "por el test de comparación de proporciones visto en los contrastes\n",
    "paramétricos. Si lo que queremos es valorar la relación que existe entre\n",
    "dos variables cualitativas dicotómicas, podemos portar por la medida\n",
    "$\\chi^2$.\n",
    "\n",
    "El test exacto de Fisher se basa en la distribución hipergeométrica,\n",
    "calculando probabilidades para cada una de las combinaciones de las\n",
    "celdas en una tabla de contingencia $2\\times2$. Es importante hacer\n",
    "hincapié que las **distribuciones marginales están fijas durante todo el\n",
    "proceso**. \n",
    "\n",
    "__[Ejemplo]__ La siguiente tabla muestra a varios pacientes de dos grupos diferentes,\n",
    "sedentarios y no sedentarios, así como el registro de cuales de ellos\n",
    "realizan más de 150 minutos semanales de ejercicio físico.\n",
    "\n",
    "|Paciente|          1|    2|    3|    4|    5|    6|    7|    8|    9|    10|\n",
    "|---------|----------|-----|-----|-----|-----|-----|-----|-----|-----|------|\n",
    "|Sedentario (X)|   SI|   SI|   SI|   SI|   NO|   NO|   NO|   NO|   NO|   NO |\n",
    "|EjerFísico (Y)|   SI|   SI|   NO|   SI|   NO|   NO|   NO|   NO|   SI|   NO |\n",
    "  \n",
    "Fijado $\\alpha = 5\\%$, contrastar la hipótesis de que las proporciones\n",
    "entre pacientes que realizan ejercicio físico sean diferentes,\n",
    "dependiendo de si es o no sedentario.\n",
    "\n",
    "(**nota**: Variar los datos para observar el cambio en el nivel de\n",
    "significación)"
   ]
  },
  {
   "cell_type": "code",
   "execution_count": 22,
   "metadata": {},
   "outputs": [
    {
     "name": "stdout",
     "output_type": "stream",
     "text": [
      "Oddsratio y p-valor:              Odds = 15  p-valor = 0.190476\n"
     ]
    }
   ],
   "source": [
    "data = pd.DataFrame({'X': ['SI',  'SI',   'SI',   'SI',   'NO',   'NO',   'NO',   'NO',   'NO',   'NO'],\n",
    "                     'Y': ['SI',  'SI',   'NO',   'SI',   'NO',   'NO',   'NO',   'NO',   'SI',   'NO']\n",
    "                    })\n",
    "A = pd.crosstab(data.X, data.Y)\n",
    "oddsratio, pvalue = st.fisher_exact(A)\n",
    "print(\"Oddsratio y p-valor:              Odds = %g  p-valor = %g\" % (oddsratio, pvalue))"
   ]
  },
  {
   "cell_type": "markdown",
   "metadata": {},
   "source": [
    "### Test de MacNemar para proporciones en poblaciones dependientes\n",
    "\n",
    "Se utiliza cuando se quieren comparar dos proporciones y las poblaciones\n",
    "son dependientes. El planteamiento parte de tomar una muestra de\n",
    "individuos, a cada uno de los cuales se mira si tienen o no una\n",
    "característica en dos ocasiones, por ejemplo antes y después de un\n",
    "tratamiento, o con dos tratamientos distintos, o en dos situaciones\n",
    "distintas generadas por una intervención, etc. En este caso, los\n",
    "individuos de la muestra son clasificados según presenten (SI) o no (NO)\n",
    "la característica, y se disponen los datos de la forma:\n",
    "\n",
    "| \\ | Sí| No|\n",
    "|---|---|---|\n",
    "|Sí | $n_{11}$ | $n_{12}$ |\n",
    "|No | $n_{21}$ | $n_{22}$ |\n",
    "\n",
    "donde:\n",
    "\n",
    "-   $n_{11}$ es el número de individuos que tienen la característica en\n",
    "    ambas ocasiones.\n",
    "\n",
    "-   $n_{12}$ son los que la tienen en A pero no en B.\n",
    "\n",
    "-   $n_{21}$ son los que la tienen en B pero no en A.\n",
    "\n",
    "-   $n_{22}$ los que no la tienen ni en A ni en B.\n",
    "\n",
    "Siendo las hipótesis, EC y RC de este contraste: \n",
    "\n",
    "$$\\nonumber\n",
    "\\begin{cases}\n",
    "    H_0 :& \\pi_A = \\pi_B \\\\\n",
    "    H_1 :& \\pi_A \\neq \\pi_B\n",
    "  \\end{cases}, \\quad X^2 = \\frac{(|n_{12}-n_{21}|-1)^2}{n_{12}-n_{21}}, \\quad\n",
    "   \\mbox{ y } RC = \\{ X^2 > \\chi^2_{1-\\alpha}(1)\\}$$\n",
    "\n",
    "(**Nota**. Para que la aproximación que se utiliza en la distribución\n",
    "del EC sea aceptable, conviene que $n_{12}+n_{21}>10$)\n",
    "\n",
    "__[Ejemplo]__ Se ha realizado una encuesta a 125 individuos que son usuarios al mismo\n",
    "tiempo de Centros de Salud y Ambulatorios. En dicha encuesta se ha\n",
    "recogido su opinión favorable (SI) o desfavorable (NO) a dichos sistemas\n",
    "de asistencia. Los datos recogidos aparecen en la siguiente tabla\n",
    "\n",
    "| \\ |Sí| No |\n",
    "|---|---|---|\n",
    "|Sí|27   |35|\n",
    "|No|43   |20|\n",
    "  \n",
    "Para un $\\alpha = 5\\%$, ¿se tiene la misma opinión de los sistemas?"
   ]
  },
  {
   "cell_type": "code",
   "execution_count": 21,
   "metadata": {},
   "outputs": [
    {
     "name": "stdout",
     "output_type": "stream",
     "text": [
      "EC y p-valor:              X2 = 0.628205  p-valor = 0.428014\n"
     ]
    }
   ],
   "source": [
    "from statsmodels.sandbox.stats.runs import mcnemar\n",
    "X2, pvalue = mcnemar([[27,35],[43,20]], exact=False) # exact=False para realizar la aproximación Chi-cuadrada\n",
    "\n",
    "print(\"EC y p-valor:              X2 = %g  p-valor = %g\" % (X2, pvalue))"
   ]
  }
 ],
 "metadata": {
  "kernelspec": {
   "display_name": "Python 3",
   "language": "python",
   "name": "python3"
  },
  "language_info": {
   "codemirror_mode": {
    "name": "ipython",
    "version": 3
   },
   "file_extension": ".py",
   "mimetype": "text/x-python",
   "name": "python",
   "nbconvert_exporter": "python",
   "pygments_lexer": "ipython3",
   "version": "3.7.7"
  }
 },
 "nbformat": 4,
 "nbformat_minor": 4
}
