{
  "cells": [
    {
      "cell_type": "markdown",
      "source": [
        "El intervalo de condianza $(1 - \\alpha) \\cdot 100 \\%$ (a partir del teorema central del límite) para una proporción poblacional $(\\pi)$ es:\n",
        "\n",
        "$$IC_{(1 - \\alpha) \\cdot 100 \\%} (\\pi) = p + z_{\\alpha} \\cdot \\sqrt{\\frac{pq}{n}}$$\n",
        "\n",
        "donde $p$ es la proporción muestral (proporción de fallos en tus operativas), es decir, número de las que han fallado dividido entre el total de ellas. Además $q= 1-p$. Si el nivel de significación $\\alpha = 0.05$, la confianza es $(1 - 0.05) \\cdot 100 \\% = 95\\%$\n",
        "\n\n",
        "El término \n",
        "\n",
        "$$z_{\\alpha} \\cdot \\sqrt{\\frac{pq}{n}}$$\n",
        "\n",
        "se llama __error en la estimación__ o __precisión__. Tú lo has llamado $d$. ¿Qué tamaño muestral necesitas si quieres que tu precisión sea de un $d=3\\%$? Es decir, que el intervalo de confianza sea $p \\pm 3\\%$ ... vamos a ver:\n",
        "\n",
        "$$d = z_{\\alpha} \\cdot \\sqrt{\\frac{pq}{n}}$$\n",
        "\n",
        "$$d^2 = z_{\\alpha}^2 \\cdot \\frac{pq}{n}$$\n",
        "\n",
        "$$n = z_{\\alpha}^2 \\cdot \\frac{pq}{d^2}$$\n",
        "\n",
        "Ese tiene que ser tu tamaño muestral si quieres conseguir una precisión $d$. Pero tienes una población finita, es decir, no puede coger cualquier valor, solo hasta un número máximo de operativas en el almacén. En ese caso tienes que hacer un pequeño ajuste:\n",
        "\n",
        "$$N_e = \\dfrac{n}{1+\\dfrac{n}{N}},$$\n",
        "\n",
        "donde $N_e$ es el número de sujetos necesarios, $n$ el tamaño muestral calculado y $N$ el tamaño de la población. Sustituyendo llegamos a tu fórmula:\n",
        "\n",
        "$$N_e = \\dfrac{z_{\\alpha}^2 \\cdot \\frac{pq}{d^2}}{1+\\dfrac{z_{\\alpha}^2 \\cdot \\frac{pq}{d^2}}{N}} = \\frac{z_{\\alpha}^2 p q N}{d^2N+z_{\\alpha}^2pq}$$\n",
        "\n"
      ],
      "metadata": {
        "collapsed": false,
        "outputHidden": false,
        "inputHidden": false
      }
    },
    {
      "cell_type": "markdown",
      "source": [
        "Es importante entender que la probabilidad de fallo, tal y como planteáis el problema __es la misma para todas las operativas__. Pero dicha probabilidad no tiene que ver con la incidencia. La incidencia tiene que ver con __el número de nuevos de fallos en una población que se desarrollan en una población de riesgo durante un período de tiempo__"
      ],
      "metadata": {}
    },
    {
      "cell_type": "markdown",
      "source": [],
      "metadata": {}
    }
  ],
  "metadata": {
    "kernel_info": {
      "name": "python3"
    },
    "language_info": {
      "name": "python",
      "version": "3.6.7",
      "mimetype": "text/x-python",
      "codemirror_mode": {
        "name": "ipython",
        "version": 3
      },
      "pygments_lexer": "ipython3",
      "nbconvert_exporter": "python",
      "file_extension": ".py"
    },
    "kernelspec": {
      "name": "python3",
      "language": "python",
      "display_name": "Python 3"
    },
    "nteract": {
      "version": "0.12.3"
    }
  },
  "nbformat": 4,
  "nbformat_minor": 4
}