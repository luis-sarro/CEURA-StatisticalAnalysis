{
 "cells": [
  {
   "cell_type": "markdown",
   "id": "cd93be72",
   "metadata": {},
   "source": [
    "## Sesión práctica 1\n",
    "### Ejercicio 1: Creación de datos\n",
    "\n",
    "Supongamos que tenemos dos modelos de clasificación uno basado en redes neuronales y otro en un bosque aleatorio. \n",
    "Vamos a realizar un experimento ficticio cuya utilidad veremos al final del ejercicio. \n",
    "En este ejercicio, vamos a crear datos sintéticos que interpretaremos como el resultado del experimento. \n",
    "\n",
    "* El experimento se realizará sobre un conjunto de 5000 datos y consistirá en dividir dicho conjunto en dos partes iguales (2500 casos), entrenar cada modelo con una mitad (llamémosla M1) y evaluar su tasa de aciertos en la segunda (M2). Luego, invertimos los papeles: entrenamos con M2 y evaluamos sobre M1. Repetimos el experimento 5 veces (se diferenciarán en la división de los 5000 casos en las dos mitades). Eso nos dará 5x2=10 valores de la tasa de acierto de nuestros clasificadores.  \n",
    "* Suponemos que la tasa de aciertos verdadera (poblacional) del primer clasificador es del 89% y la del segundo, 93%. Para incluir la variabilidad debido a la división de los datos, supongamos que los clasificadores individuales entrenados sobre el 50% de los datos presentan tasas de acierto distribuidas según Gaussianas centradas en esas medias y con desviaciones típicas de 1.5. \n",
    "* En este primer paso, os pido que penséis en cómo generar los 10 valores de la tasa de acierto para cada uno de los 10 conjuntos de test de cada clasificador. No os pido que generéis los datos, sólo las tasas de acierto sobre los 2500 valores en cada caso. Deberéis decidir qué distribución de probabilidad usais para generar los datos. \n",
    "\n",
    "### Ejercicio 2: Intervalos de confianza para la tasa promedio de acierto de cada clasificador.\n",
    "\n",
    "En este segundo ejercicio, os pido que proporcionéis la tasa media de acierto de cada clasificador y su intervalo de confianza al 5% de confianza. \n",
    "\n",
    "### Ejercicio 3: Selección del mejor clasificador\n",
    "\n",
    "* En este apartado os pido que contestéis a la pregunta de si hay un clasificador significativamente mejor que el otro y cuál es. Obviamente, conocéis la respuesta, pero yo os pido que respondáis a la pregunta a partir de los datos sintéticos que habéis generado y mediante un contraste de hipótesis.\n",
    "\n",
    "\n",
    "\n",
    "\n"
   ]
  }
 ],
 "metadata": {
  "kernelspec": {
   "display_name": "Python 3 (ipykernel)",
   "language": "python",
   "name": "python3"
  },
  "language_info": {
   "codemirror_mode": {
    "name": "ipython",
    "version": 3
   },
   "file_extension": ".py",
   "mimetype": "text/x-python",
   "name": "python",
   "nbconvert_exporter": "python",
   "pygments_lexer": "ipython3",
   "version": "3.10.12"
  }
 },
 "nbformat": 4,
 "nbformat_minor": 5
}
