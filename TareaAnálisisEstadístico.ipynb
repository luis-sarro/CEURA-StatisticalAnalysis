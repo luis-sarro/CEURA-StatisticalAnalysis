{
 "cells": [
  {
   "cell_type": "markdown",
   "metadata": {},
   "source": [
    "# Entrega del módulo 2. Aprendizaje estadístico.\n",
    "\n",
    "## <font color=\"red\"> Fecha límite 17 de diciembre de 2023 </font>\n",
    "\n",
    "La entrega de la práctica del módulo de aprendizaje estadístico se divide en tres etapas. Las etapas van de menos a más en términos de dificultad, y el hecho de pasarlas hará que se consigan más puntos en la nota final.\n",
    "\n",
    "* __Etapa 1 (5 puntos)__: Analizar los resultados de un contraste de hipótesis para dos poblaciones independientes (t-test) cuando hacemos variar el tamaño muestral.\n",
    "* __Etapa 2 (3 puntos)__: Aplicar un t-test a un conjunto de datos reales.\n",
    "* __Etapa 3 (2 puntos)__: Aplicar un modelo jerárquico Bayesiano al conjunto de datos reales de la Etapa 2.\n",
    "\n",
    "Para poder evaluar la práctica habrá que entregar los archivos comprimidos en formato zip. El fichero zip debe contener un cuaderno python que incluya el código y las descripciones y análisis que constituyen la práctica. También deberá contener los datos utilizados en forma de archivo csv.\n",
    "\n",
    "Especificamos qué debe entregarse en cada una de las etapas para conseguir los puntos asignados en las mismas:\n",
    "\n",
    "### __Etapa 1__\n",
    "\n",
    "En esta etapa el objetivo es entender __cómo influye el tamaño muestral__ en un t-test para dos poblaciones independientes. O de otro modo, fijado $\\alpha = 0.05$, qué decisión tomamos (rechazar o no $H_0$) suponiendo que todas las demás hipótesis se cumplen (normalidad e igualdad de varianzas), en unos datos simulados para los que se han dejado fijas las medias y deviaciones típicas, y hacemos variar los tamaños muestrales.\n",
    "\n",
    "Para ayudaros podéis utilizar el código que aparece a continuación, en el que se plantea el contraste\n",
    "\n",
    "$$\\begin{cases}\n",
    "            H_0 :& \\mu_1 = \\mu_2 \\\\\n",
    "            H_1 :&  \\mu_1 \\neq \\mu_2\n",
    "\\end{cases}$$"
   ]
  },
  {
   "cell_type": "code",
   "execution_count": 7,
   "metadata": {},
   "outputs": [
    {
     "name": "stdout",
     "output_type": "stream",
     "text": [
      "Estadístico=-14.315, p-valor=0.000\n"
     ]
    }
   ],
   "source": [
    "import scipy.stats as st\n",
    "\n",
    "X1 = st.norm(loc=7., scale=1.)  # Dejamos fijas la media y desivación típica\n",
    "X2 = st.norm(loc=8., scale=1.)  # Dejamos fijas la media y deviación típica\n",
    "\n",
    "sueldos_hombres = X1.rvs(500)  # Tamaño muestral 500\n",
    "sueldos_mujeres = X2.rvs(300)  # Tamaño muestral 300\n",
    "\n",
    "T, p = st.ttest_ind(sueldos_hombres, sueldos_mujeres, equal_var = True)\n",
    "print('Estadístico=%.3f, p-valor=%.3f' % (T, p))"
   ]
  },
  {
   "cell_type": "markdown",
   "metadata": {},
   "source": [
    "### __Etapa 2__\n",
    "\n",
    "En esta etapa se os pide que reproduzcáis (cortar y pegar código) el ejemplo que hay en el notebook 05-EstudiosAnaliticos.ipynb dentro de la sección __Contrastes paramétricos en dos poblaciones normales INDEPENDIENTES__ para vuestros propios datos. Estos datos deben proceder de vuestro trabajo y os sugerimos el siguiente caso:\n",
    "* Tomad dos muestras suficientemente grandes de una variable cuantitativa contínua cada una de ellas obtenidas a partir de un valor de una variable categórica, por ejemplo el género másculino/femenino. \n",
    "* Dividid cada muestra en un número de submuestras y calculad la media. ¿Qué distribución deberían seguir dichas medias?\n",
    "\n",
    "El ejemplo al que me refiero comienza con las líneas de código\n",
    "\n",
    "```python\n",
    "drinks = pd.read_csv('https://raw.githubusercontent.com/justmarkham/DAT5/master/data/drinks.csv')\n",
    "drinks.boxplot(column='beer_servings', by='continent');\n",
    "```\n",
    "\n",
    "Debeís cargar vuestro propio conjunto de datos y __comprobar las hipótesis del t-test__. Se evaluará:\n",
    "\n",
    "1. Que habéis comprobado la Normalidad de los datos de cada una de las muestras (Shapiro-Wilk).\n",
    "2. Que habéis comprobado la de igualdad de varianzas (Levene o Barlett).\n",
    "3. Que planteáis un contraste para la igualdad de medias (t-test) y que decidís de manera adecuada."
   ]
  },
  {
   "cell_type": "markdown",
   "metadata": {},
   "source": [
    "### __Etapa 3__\n",
    "\n",
    "En esta etapa se os pide que comparéis la decisión tomada con el t-test del ejercicio anterior (Etapa 2) con la decisión que tomaríais al utilizar un modelo jerárquico Bayesiano. Para ello tendréis que cortar y pegar el código de la sección __Sustituyendo el contraste para dos poblaciones independientes por la inferencia Bayesiana__ en el notebook 06-InferenciaBayesiana.ipynb, y obtener un intervalo plausible al 95% de probabilidad (95% HDP) para la diferencia de medias en vuestros datos."
   ]
  }
 ],
 "metadata": {
  "kernelspec": {
   "display_name": "Python 3 (ipykernel)",
   "language": "python",
   "name": "python3"
  },
  "language_info": {
   "codemirror_mode": {
    "name": "ipython",
    "version": 3
   },
   "file_extension": ".py",
   "mimetype": "text/x-python",
   "name": "python",
   "nbconvert_exporter": "python",
   "pygments_lexer": "ipython3",
   "version": "3.10.12"
  }
 },
 "nbformat": 4,
 "nbformat_minor": 4
}
